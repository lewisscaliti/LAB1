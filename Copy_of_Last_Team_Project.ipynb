{
  "nbformat": 4,
  "nbformat_minor": 0,
  "metadata": {
    "colab": {
      "name": "Copy of Last Team Project",
      "provenance": [],
      "collapsed_sections": [],
      "include_colab_link": true
    },
    "kernelspec": {
      "name": "python3",
      "display_name": "Python 3"
    }
  },
  "cells": [
    {
      "cell_type": "markdown",
      "metadata": {
        "id": "view-in-github",
        "colab_type": "text"
      },
      "source": [
        "<a href=\"https://colab.research.google.com/github/lewisscaliti/LAB1/blob/master/Copy_of_Last_Team_Project.ipynb\" target=\"_parent\"><img src=\"https://colab.research.google.com/assets/colab-badge.svg\" alt=\"Open In Colab\"/></a>"
      ]
    },
    {
      "cell_type": "markdown",
      "metadata": {
        "id": "ceMfiZjOU6N2",
        "colab_type": "text"
      },
      "source": [
        "**2010 SAT Analysis**"
      ]
    },
    {
      "cell_type": "markdown",
      "metadata": {
        "id": "Flq3zq4LU8e4",
        "colab_type": "text"
      },
      "source": [
        "Christine Kinahan"
      ]
    },
    {
      "cell_type": "markdown",
      "metadata": {
        "id": "CL7Qo-vQU-JD",
        "colab_type": "text"
      },
      "source": [
        "Randall Cheloha"
      ]
    },
    {
      "cell_type": "markdown",
      "metadata": {
        "id": "d8Xkgke7VEcK",
        "colab_type": "text"
      },
      "source": [
        "Lewis Scaliti"
      ]
    },
    {
      "cell_type": "markdown",
      "metadata": {
        "id": "KWkfatHmVIUe",
        "colab_type": "text"
      },
      "source": [
        "**Background**"
      ]
    },
    {
      "cell_type": "markdown",
      "metadata": {
        "id": "0ikyW5SlXWXI",
        "colab_type": "text"
      },
      "source": [
        "For this project, we wil be focusing on the data collected from the 2010 school year in New York City. Specifically, we will be utilizing the 2010 New York City SAT results and the demographics and accountability of students for that year. Our SAT data set contains the mean SAT scores for college bound seniors. Contained in the demographic and accountability data set is the number of students enrolled in each grade at each school. Furthermore, the data is broken down on race and gender. The races collected in the data are Asian, White, Hispanic, and Black, while the genders of male and female are collected. We will analyze the data to explore relationships found in it based on assumptions we have made. The assumptions made were presumed after looking at popular stereotypes about the demographic. We used three categories of stereotypes to perform our analysis: race, gender, and presumed economic status. We also made assumptions based on size of senior class at each school and their mean SAT score. Lastly, we made a few assumptions on just general education views, such as the overall mean reading and writing scores being higher than math scores. It is commonly believed that SAT scores are greatly influenced by the school system that an individual is educated in, which is partially a reason for some universities refusing it as a prerequiste for admission. This project will also let us see if there is bias of why some demographics might prefer the SAT test over submitting grades to try and gain admission to a university."
      ]
    },
    {
      "cell_type": "markdown",
      "metadata": {
        "id": "nHbhoCvDAk-N",
        "colab_type": "text"
      },
      "source": [
        "**Goal**"
      ]
    },
    {
      "cell_type": "markdown",
      "metadata": {
        "id": "XMsGmuevAohw",
        "colab_type": "text"
      },
      "source": [
        "The goal of our project is to thoroughly analyze the 2010 NYC Sat Results and the 2006-2012 School Demographics and Accountability data sets in a way where we can illustrate the results of our assumptions and findings."
      ]
    },
    {
      "cell_type": "markdown",
      "metadata": {
        "id": "E950x5CDVUcN",
        "colab_type": "text"
      },
      "source": [
        "**Assumptions**"
      ]
    },
    {
      "cell_type": "markdown",
      "metadata": {
        "id": "boLQ_eA7YrbK",
        "colab_type": "text"
      },
      "source": [
        "\n",
        "\n",
        "*   Asian students outperform other races based on racial stereotypes.\n",
        "\n",
        "*   White students outperform other races based on economic stereotypes.\n",
        "\n",
        "*   Men outperform women based on gender stereotypes.\n",
        "\n",
        "*   Schools with more students in Grade 12 will have higher mean SAT scores based on amount of people taking exam.\n",
        "\n",
        "*   Males will perform better on the math section.\n",
        "\n",
        "*   Females will perform better on the reading section.\n",
        "\n",
        "*   Those who perform well on the reading section will perform well on the written section.\n",
        "\n",
        "*   Those who perform well on the math section will perform poor on the written section.\n",
        "\n",
        "*   Students taking the SAT in higher income areas within New York City will obtain a higher score than those in low income areas. \n",
        "\n",
        "*  Overall, reading and writing scores will be higher than math scores.\n",
        "\n",
        "\n"
      ]
    },
    {
      "cell_type": "markdown",
      "metadata": {
        "id": "QupHZ5bxVh3l",
        "colab_type": "text"
      },
      "source": [
        "**Data Sources**"
      ]
    },
    {
      "cell_type": "markdown",
      "metadata": {
        "id": "IwVcmRh3Zt6M",
        "colab_type": "text"
      },
      "source": [
        "The two data sources we used were the NYC 2010 SAT school level results and the 2006-2012 NYC school demographics and accountability snapshot. These two sources could be found respectively at the links https://catalog.data.gov/dataset/sat-college-board-2010-school-level-results-5c6d6 and https://data.cityofnewyork.us/Education/2006-2012-School-Demographics-and-Accountability-S/ihfw-zy9j, also listed below. While both of these sources come from New York City, the amount of data based on race, gender, and other demographics help to illustrate a potential bias or statistic anomaly. To start, we filtered the second data dealing with school demographics and accountability to only show the year 2010. To standardize our comparisons, we picked data from the year 2010. This is to correlate with the first dataset that only shows the SAT results from the year 2010. Knowing the demographics and accountability of students from the same year as the SAT results were collected can help us make assumptions and anyalyze if our assumptions are true or different. We joined the sources together using tableau and insterted both into a single set of data. We also used a third source of data to help us further understand the connections in our raw data sets. This third source was the New York state profile report for 2010 college bound seniors from the College Board and could be found at https://secure-media.collegeboard.org/digitalServices/pdf/research/NY_10_03_03_01.pdf. Since it is a report and not a raw data set, it can help us to make our conclusions better as we have more corraborating evidence to back up our results. In the report they went very in depth about the scores and who they came from."
      ]
    },
    {
      "cell_type": "markdown",
      "metadata": {
        "id": "ZyG29fqmVkLB",
        "colab_type": "text"
      },
      "source": [
        "**Sources**"
      ]
    },
    {
      "cell_type": "markdown",
      "metadata": {
        "id": "g1kS8KycZu1q",
        "colab_type": "text"
      },
      "source": [
        "\"SAT (College Board) 2010 School Level Results\" https://catalog.data.gov/dataset/sat-college-board-2010-school-level-results-5c6d6"
      ]
    },
    {
      "cell_type": "markdown",
      "metadata": {
        "id": "3v9DJKmbBqkq",
        "colab_type": "text"
      },
      "source": [
        "\"2006 - 2012 School Demographics and Accountability Snapshot\" https://data.cityofnewyork.us/Education/2006-2012-School-Demographics-and-Accountability-S/ihfw-zy9j"
      ]
    },
    {
      "cell_type": "markdown",
      "metadata": {
        "id": "82XFWbn5c2Q-",
        "colab_type": "text"
      },
      "source": [
        "\"2010 College Bound Seniors State Profile Report New York\" https://secure-media.collegeboard.org/digitalServices/pdf/research/NY_10_03_03_01.pdf"
      ]
    },
    {
      "cell_type": "markdown",
      "metadata": {
        "id": "8aFUVCVZVn4Q",
        "colab_type": "text"
      },
      "source": [
        "**Dashboard**"
      ]
    },
    {
      "cell_type": "code",
      "metadata": {
        "id": "U_QK-tEsVo0t",
        "colab_type": "code",
        "outputId": "258bcae7-044b-4e55-8c3a-55d9ac743e3a",
        "colab": {
          "base_uri": "https://localhost:8080/",
          "height": 894
        }
      },
      "source": [
        "import IPython\n",
        "IPython.display.HTML(\"<div class='tableauPlaceholder' id='viz1588041597991' style='position: relative'><noscript><a href='#'><img alt=' ' src='https:&#47;&#47;public.tableau.com&#47;static&#47;images&#47;Fi&#47;FinalTeamProject_SRA268&#47;RacialandGenderDiversityComparedtoSATScores&#47;1_rss.png' style='border: none' /></a></noscript><object class='tableauViz'  style='display:none;'><param name='host_url' value='https%3A%2F%2Fpublic.tableau.com%2F' /> <param name='embed_code_version' value='3' /> <param name='site_root' value='' /><param name='name' value='FinalTeamProject_SRA268&#47;RacialandGenderDiversityComparedtoSATScores' /><param name='tabs' value='no' /><param name='toolbar' value='yes' /><param name='static_image' value='https:&#47;&#47;public.tableau.com&#47;static&#47;images&#47;Fi&#47;FinalTeamProject_SRA268&#47;RacialandGenderDiversityComparedtoSATScores&#47;1.png' /> <param name='animate_transition' value='yes' /><param name='display_static_image' value='yes' /><param name='display_spinner' value='yes' /><param name='display_overlay' value='yes' /><param name='display_count' value='yes' /></object></div>                <script type='text/javascript'>                    var divElement = document.getElementById('viz1588041597991');                    var vizElement = divElement.getElementsByTagName('object')[0];                    if ( divElement.offsetWidth > 800 ) { vizElement.style.width='1000px';vizElement.style.height='827px';} else if ( divElement.offsetWidth > 500 ) { vizElement.style.width='1000px';vizElement.style.height='827px';} else { vizElement.style.width='100%';vizElement.style.height='877px';}                     var scriptElement = document.createElement('script');                    scriptElement.src = 'https://public.tableau.com/javascripts/api/viz_v1.js';                    vizElement.parentNode.insertBefore(scriptElement, vizElement);                </script>\")\n"
      ],
      "execution_count": 0,
      "outputs": [
        {
          "output_type": "execute_result",
          "data": {
            "text/html": [
              "<div class='tableauPlaceholder' id='viz1588041597991' style='position: relative'><noscript><a href='#'><img alt=' ' src='https:&#47;&#47;public.tableau.com&#47;static&#47;images&#47;Fi&#47;FinalTeamProject_SRA268&#47;RacialandGenderDiversityComparedtoSATScores&#47;1_rss.png' style='border: none' /></a></noscript><object class='tableauViz'  style='display:none;'><param name='host_url' value='https%3A%2F%2Fpublic.tableau.com%2F' /> <param name='embed_code_version' value='3' /> <param name='site_root' value='' /><param name='name' value='FinalTeamProject_SRA268&#47;RacialandGenderDiversityComparedtoSATScores' /><param name='tabs' value='no' /><param name='toolbar' value='yes' /><param name='static_image' value='https:&#47;&#47;public.tableau.com&#47;static&#47;images&#47;Fi&#47;FinalTeamProject_SRA268&#47;RacialandGenderDiversityComparedtoSATScores&#47;1.png' /> <param name='animate_transition' value='yes' /><param name='display_static_image' value='yes' /><param name='display_spinner' value='yes' /><param name='display_overlay' value='yes' /><param name='display_count' value='yes' /></object></div>                <script type='text/javascript'>                    var divElement = document.getElementById('viz1588041597991');                    var vizElement = divElement.getElementsByTagName('object')[0];                    if ( divElement.offsetWidth > 800 ) { vizElement.style.width='1000px';vizElement.style.height='827px';} else if ( divElement.offsetWidth > 500 ) { vizElement.style.width='1000px';vizElement.style.height='827px';} else { vizElement.style.width='100%';vizElement.style.height='877px';}                     var scriptElement = document.createElement('script');                    scriptElement.src = 'https://public.tableau.com/javascripts/api/viz_v1.js';                    vizElement.parentNode.insertBefore(scriptElement, vizElement);                </script>"
            ],
            "text/plain": [
              "<IPython.core.display.HTML object>"
            ]
          },
          "metadata": {
            "tags": []
          },
          "execution_count": 1
        }
      ]
    },
    {
      "cell_type": "markdown",
      "metadata": {
        "id": "j3Zgu2EfVtK1",
        "colab_type": "text"
      },
      "source": [
        "**Conclusion**"
      ]
    },
    {
      "cell_type": "markdown",
      "metadata": {
        "id": "kSCuHRiPBXN0",
        "colab_type": "text"
      },
      "source": [
        "This project allowed us to gain a deeper insight on how SAT scores in 2010 correlated with student demographic data. We started out by finding two interesting sets of data that would allow us to do this particular analysis. Our sets were found at public data websites, catalog.data.gov and data.cityofnewyork.us. By gathering our two datasets, the NYC SAT 2010 school level results and 2006-2012 school demographics and accountability snapshot, we were able to develop our project idea and choose what exactly we wanted to focus on within the data. Our goal ended up being to analyze the data in order to be able to graphically understand the results of the assumptions we made using Tableau. We created ten assumptions based on common stereotypes surrounding school students we were interested in. These assumptions included gender stereotypes, race stereotypes, and economic stereotypes. We also made assumptions based on size of class and general knowledge skills. After we had our assumptions that acted as hypotheses we were looking to prove or disprove, we used Tableau to analyze. In creating a dashboard, we were able to conclude ....... We also created a graph to illustrate our findings. After inserting the two datasets into Tableau, we used a full outer join to combine the two sets into one that combined the common attributes such as school name. Then we used a filter to only show data from students in grade 12, as they are the graduating class of 2010 on the SAT data results. By doing this, we could make a concise graph that would show us the important data needed to analyze our assumptions and what the actual data tells us about them.  \n",
        "\n",
        " \n",
        " \n",
        "\n",
        "In terms of the data, it was less clear than originally anticipated. For one, there was no direct data about how well these specific individuals did based on their demographics. To counter this problem, we compared the racial and gender diversity of the selected schools within the data sets. Then, we created a graph that compared the scores of those same schools. We drew our conclusions based on the reasoning that more diversity would better represent students of color.  \n",
        "\n",
        " \n",
        " \n",
        "\n",
        "On the topic of racial stereotypes, we assumed Asian students would perform higher out of any race on the 2010 SAT. Bluntly, our findings for this assumption were inconclusive. For an economic stereotype, we assumed White students would perform higher as they are associated with coming from higher incomes who can afford more tutoring. There was a noticeable correlation amongst students who came from relatively white schools and heightened SAT scores. When it comes to gender stereotypes, we assumed that males would outperform females. We also assumed males would perform better on the math section, while females would perform better on the critical reading and written sections of the test. There is generally not a large enough amount of evidence to support this claim. Of the more general assumptions, we thought that the higher the number of students a school had in grade 12, the higher that school's mean SAT scores would be. We also believed that schools in areas known to be higher income areas would yield higher SAT mean scores. Lastly, when it comes to overall score analysis, we assumed that those who perform well on math would do poor on reading and those who did well on reading would do poor on math. Overall, we assumed reading and writing scores would be higher than math scores. These assumptions were also somewhat inconsistent. We did see that schools who had low scores generally had both low Math, reading, and writing scores. "
      ]
    }
  ]
}
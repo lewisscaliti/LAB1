{
  "nbformat": 4,
  "nbformat_minor": 0,
  "metadata": {
    "colab": {
      "name": "Lab 1",
      "provenance": [],
      "authorship_tag": "ABX9TyMp68DbxbEFbvZchz/dq9tA",
      "include_colab_link": true
    },
    "kernelspec": {
      "name": "python3",
      "display_name": "Python 3"
    }
  },
  "cells": [
    {
      "cell_type": "markdown",
      "metadata": {
        "id": "view-in-github",
        "colab_type": "text"
      },
      "source": [
        "<a href=\"https://colab.research.google.com/github/lewisscaliti/LAB1/blob/master/Lab_1.ipynb\" target=\"_parent\"><img src=\"https://colab.research.google.com/assets/colab-badge.svg\" alt=\"Open In Colab\"/></a>"
      ]
    },
    {
      "cell_type": "code",
      "metadata": {
        "id": "c0BRm6KiiWle",
        "colab_type": "code",
        "colab": {}
      },
      "source": [
        ""
      ],
      "execution_count": 0,
      "outputs": []
    },
    {
      "cell_type": "markdown",
      "metadata": {
        "id": "PKK_cKxzjhDO",
        "colab_type": "text"
      },
      "source": [
        "### Lab 1"
      ]
    },
    {
      "cell_type": "markdown",
      "metadata": {
        "id": "ejDbsExHcFLA",
        "colab_type": "text"
      },
      "source": [
        "##### What is the correlation between snowfall and minimum tempatures?"
      ]
    },
    {
      "cell_type": "markdown",
      "metadata": {
        "id": "v_WOTxrocEpH",
        "colab_type": "text"
      },
      "source": [
        "####Using State College's local weather data, we will assemble a graph. This graph will compare the temperature along the X-axis, while displaying the snowfall along the Y-Axis. This would help local weather forecasters predict how much snow they can expect when the weather drops to certain points."
      ]
    },
    {
      "cell_type": "markdown",
      "metadata": {
        "id": "tH8rUB88cDx6",
        "colab_type": "text"
      },
      "source": [
        "![Diagram](https://raw.githubusercontent.com/lewisscaliti/LAB1/master/IMG_2294.jpeg)"
      ]
    },
    {
      "cell_type": "markdown",
      "metadata": {
        "id": "wEiyrGkdclGb",
        "colab_type": "text"
      },
      "source": [
        "####After coordinating the graph, it was apparent that there was really no correlation between the amount of snow precipitation and the minimum temperature . It is not necessarily true that colder days warrant more snow. Through visualizing the data points, the points were able to be easily displayed.\n"
      ]
    }
  ]
}